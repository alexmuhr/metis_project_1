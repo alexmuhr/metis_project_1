{
 "cells": [
  {
   "cell_type": "code",
   "execution_count": 1,
   "metadata": {},
   "outputs": [],
   "source": [
    "import pandas as pd\n",
    "import numpy as np"
   ]
  },
  {
   "cell_type": "code",
   "execution_count": 2,
   "metadata": {},
   "outputs": [
    {
     "data": {
      "text/html": [
       "<div>\n",
       "<style scoped>\n",
       "    .dataframe tbody tr th:only-of-type {\n",
       "        vertical-align: middle;\n",
       "    }\n",
       "\n",
       "    .dataframe tbody tr th {\n",
       "        vertical-align: top;\n",
       "    }\n",
       "\n",
       "    .dataframe thead th {\n",
       "        text-align: right;\n",
       "    }\n",
       "</style>\n",
       "<table border=\"1\" class=\"dataframe\">\n",
       "  <thead>\n",
       "    <tr style=\"text-align: right;\">\n",
       "      <th></th>\n",
       "      <th>Station ID</th>\n",
       "      <th>Complex ID</th>\n",
       "      <th>GTFS Stop ID</th>\n",
       "      <th>Division</th>\n",
       "      <th>Line</th>\n",
       "      <th>Stop Name</th>\n",
       "      <th>Borough</th>\n",
       "      <th>Daytime Routes</th>\n",
       "      <th>Structure</th>\n",
       "      <th>GTFS Latitude</th>\n",
       "      <th>GTFS Longitude</th>\n",
       "      <th>North Direction Label</th>\n",
       "      <th>South Direction Label</th>\n",
       "    </tr>\n",
       "  </thead>\n",
       "  <tbody>\n",
       "    <tr>\n",
       "      <th>0</th>\n",
       "      <td>1</td>\n",
       "      <td>1</td>\n",
       "      <td>R01</td>\n",
       "      <td>BMT</td>\n",
       "      <td>Astoria</td>\n",
       "      <td>Astoria - Ditmars Blvd</td>\n",
       "      <td>Q</td>\n",
       "      <td>N W</td>\n",
       "      <td>Elevated</td>\n",
       "      <td>40.775036</td>\n",
       "      <td>-73.912034</td>\n",
       "      <td>NaN</td>\n",
       "      <td>Manhattan</td>\n",
       "    </tr>\n",
       "    <tr>\n",
       "      <th>1</th>\n",
       "      <td>2</td>\n",
       "      <td>2</td>\n",
       "      <td>R03</td>\n",
       "      <td>BMT</td>\n",
       "      <td>Astoria</td>\n",
       "      <td>Astoria Blvd</td>\n",
       "      <td>Q</td>\n",
       "      <td>N W</td>\n",
       "      <td>Elevated</td>\n",
       "      <td>40.770258</td>\n",
       "      <td>-73.917843</td>\n",
       "      <td>Ditmars Blvd</td>\n",
       "      <td>Manhattan</td>\n",
       "    </tr>\n",
       "    <tr>\n",
       "      <th>2</th>\n",
       "      <td>3</td>\n",
       "      <td>3</td>\n",
       "      <td>R04</td>\n",
       "      <td>BMT</td>\n",
       "      <td>Astoria</td>\n",
       "      <td>30 Av</td>\n",
       "      <td>Q</td>\n",
       "      <td>N W</td>\n",
       "      <td>Elevated</td>\n",
       "      <td>40.766779</td>\n",
       "      <td>-73.921479</td>\n",
       "      <td>Astoria - Ditmars Blvd</td>\n",
       "      <td>Manhattan</td>\n",
       "    </tr>\n",
       "    <tr>\n",
       "      <th>3</th>\n",
       "      <td>4</td>\n",
       "      <td>4</td>\n",
       "      <td>R05</td>\n",
       "      <td>BMT</td>\n",
       "      <td>Astoria</td>\n",
       "      <td>Broadway</td>\n",
       "      <td>Q</td>\n",
       "      <td>N W</td>\n",
       "      <td>Elevated</td>\n",
       "      <td>40.761820</td>\n",
       "      <td>-73.925508</td>\n",
       "      <td>Astoria - Ditmars Blvd</td>\n",
       "      <td>Manhattan</td>\n",
       "    </tr>\n",
       "    <tr>\n",
       "      <th>4</th>\n",
       "      <td>5</td>\n",
       "      <td>5</td>\n",
       "      <td>R06</td>\n",
       "      <td>BMT</td>\n",
       "      <td>Astoria</td>\n",
       "      <td>36 Av</td>\n",
       "      <td>Q</td>\n",
       "      <td>N W</td>\n",
       "      <td>Elevated</td>\n",
       "      <td>40.756804</td>\n",
       "      <td>-73.929575</td>\n",
       "      <td>Astoria - Ditmars Blvd</td>\n",
       "      <td>Manhattan</td>\n",
       "    </tr>\n",
       "  </tbody>\n",
       "</table>\n",
       "</div>"
      ],
      "text/plain": [
       "   Station ID  Complex ID GTFS Stop ID Division     Line  \\\n",
       "0           1           1          R01      BMT  Astoria   \n",
       "1           2           2          R03      BMT  Astoria   \n",
       "2           3           3          R04      BMT  Astoria   \n",
       "3           4           4          R05      BMT  Astoria   \n",
       "4           5           5          R06      BMT  Astoria   \n",
       "\n",
       "                Stop Name Borough Daytime Routes Structure  GTFS Latitude  \\\n",
       "0  Astoria - Ditmars Blvd       Q            N W  Elevated      40.775036   \n",
       "1            Astoria Blvd       Q            N W  Elevated      40.770258   \n",
       "2                   30 Av       Q            N W  Elevated      40.766779   \n",
       "3                Broadway       Q            N W  Elevated      40.761820   \n",
       "4                   36 Av       Q            N W  Elevated      40.756804   \n",
       "\n",
       "   GTFS Longitude   North Direction Label South Direction Label  \n",
       "0      -73.912034                     NaN             Manhattan  \n",
       "1      -73.917843            Ditmars Blvd             Manhattan  \n",
       "2      -73.921479  Astoria - Ditmars Blvd             Manhattan  \n",
       "3      -73.925508  Astoria - Ditmars Blvd             Manhattan  \n",
       "4      -73.929575  Astoria - Ditmars Blvd             Manhattan  "
      ]
     },
     "execution_count": 2,
     "metadata": {},
     "output_type": "execute_result"
    }
   ],
   "source": [
    "station_locations = pd.read_csv('http://web.mta.info/developers/data/nyct/subway/Stations.csv')\n",
    "station_locations.head()"
   ]
  },
  {
   "cell_type": "code",
   "execution_count": 3,
   "metadata": {},
   "outputs": [
    {
     "data": {
      "text/plain": [
       "(496, 13)"
      ]
     },
     "execution_count": 3,
     "metadata": {},
     "output_type": "execute_result"
    }
   ],
   "source": [
    "station_locations.shape"
   ]
  },
  {
   "cell_type": "code",
   "execution_count": 4,
   "metadata": {},
   "outputs": [
    {
     "data": {
      "text/plain": [
       "(377,)"
      ]
     },
     "execution_count": 4,
     "metadata": {},
     "output_type": "execute_result"
    }
   ],
   "source": [
    "station_locations['Stop Name'].unique().shape"
   ]
  },
  {
   "cell_type": "code",
   "execution_count": 5,
   "metadata": {},
   "outputs": [],
   "source": [
    "station_locations = station_locations.drop_duplicates('Stop Name')"
   ]
  },
  {
   "cell_type": "code",
   "execution_count": 9,
   "metadata": {},
   "outputs": [],
   "source": [
    "daily_means_weekly = pd.read_csv('daily_means_weekly.csv')"
   ]
  },
  {
   "cell_type": "code",
   "execution_count": 10,
   "metadata": {},
   "outputs": [],
   "source": [
    "daily_means_weekly.drop('Unnamed: 0', axis = 1, inplace = True)"
   ]
  },
  {
   "cell_type": "code",
   "execution_count": 11,
   "metadata": {},
   "outputs": [
    {
     "data": {
      "text/html": [
       "<div>\n",
       "<style scoped>\n",
       "    .dataframe tbody tr th:only-of-type {\n",
       "        vertical-align: middle;\n",
       "    }\n",
       "\n",
       "    .dataframe tbody tr th {\n",
       "        vertical-align: top;\n",
       "    }\n",
       "\n",
       "    .dataframe thead th {\n",
       "        text-align: right;\n",
       "    }\n",
       "</style>\n",
       "<table border=\"1\" class=\"dataframe\">\n",
       "  <thead>\n",
       "    <tr style=\"text-align: right;\">\n",
       "      <th></th>\n",
       "      <th>STATION</th>\n",
       "      <th>Day of Week</th>\n",
       "      <th>ENTRIES</th>\n",
       "    </tr>\n",
       "  </thead>\n",
       "  <tbody>\n",
       "    <tr>\n",
       "      <th>0</th>\n",
       "      <td>1 AV</td>\n",
       "      <td>0</td>\n",
       "      <td>15817.779661</td>\n",
       "    </tr>\n",
       "    <tr>\n",
       "      <th>1</th>\n",
       "      <td>1 AV</td>\n",
       "      <td>1</td>\n",
       "      <td>17275.050847</td>\n",
       "    </tr>\n",
       "    <tr>\n",
       "      <th>2</th>\n",
       "      <td>1 AV</td>\n",
       "      <td>2</td>\n",
       "      <td>18004.661017</td>\n",
       "    </tr>\n",
       "    <tr>\n",
       "      <th>3</th>\n",
       "      <td>1 AV</td>\n",
       "      <td>3</td>\n",
       "      <td>18011.322034</td>\n",
       "    </tr>\n",
       "    <tr>\n",
       "      <th>4</th>\n",
       "      <td>1 AV</td>\n",
       "      <td>4</td>\n",
       "      <td>18247.237288</td>\n",
       "    </tr>\n",
       "  </tbody>\n",
       "</table>\n",
       "</div>"
      ],
      "text/plain": [
       "  STATION  Day of Week       ENTRIES\n",
       "0    1 AV            0  15817.779661\n",
       "1    1 AV            1  17275.050847\n",
       "2    1 AV            2  18004.661017\n",
       "3    1 AV            3  18011.322034\n",
       "4    1 AV            4  18247.237288"
      ]
     },
     "execution_count": 11,
     "metadata": {},
     "output_type": "execute_result"
    }
   ],
   "source": [
    "daily_means_weekly.head()"
   ]
  },
  {
   "cell_type": "code",
   "execution_count": 12,
   "metadata": {},
   "outputs": [],
   "source": [
    "station_locations['Stop Name'] = [str.upper(station) for station in station_locations['Stop Name']]"
   ]
  },
  {
   "cell_type": "code",
   "execution_count": 13,
   "metadata": {},
   "outputs": [],
   "source": [
    "station_locations['Stop Name'] = [station.replace(\" - \", \"-\") for station in station_locations['Stop Name']]"
   ]
  },
  {
   "cell_type": "code",
   "execution_count": 14,
   "metadata": {},
   "outputs": [],
   "source": [
    "daily_means_weekly['STATION'] = [station.replace(\"/\", \" ST-\") for station in daily_means_weekly['STATION']]"
   ]
  },
  {
   "cell_type": "code",
   "execution_count": 15,
   "metadata": {},
   "outputs": [],
   "source": [
    "station_locations['Stop Name'] = [station.replace(\"/\", \" ST-\") for station in station_locations['Stop Name']]"
   ]
  },
  {
   "cell_type": "code",
   "execution_count": 16,
   "metadata": {},
   "outputs": [],
   "source": [
    "station_list = list(daily_means_weekly['STATION'].unique())"
   ]
  },
  {
   "cell_type": "code",
   "execution_count": 17,
   "metadata": {},
   "outputs": [],
   "source": [
    "from difflib import SequenceMatcher\n",
    "\n",
    "def similar(a, b):\n",
    "    return SequenceMatcher(None, a, b).ratio()"
   ]
  },
  {
   "cell_type": "code",
   "execution_count": 18,
   "metadata": {},
   "outputs": [
    {
     "data": {
      "text/plain": [
       "0.8"
      ]
     },
     "execution_count": 18,
     "metadata": {},
     "output_type": "execute_result"
    }
   ],
   "source": [
    "similar(\"hello\", \"hella\")"
   ]
  },
  {
   "cell_type": "code",
   "execution_count": 19,
   "metadata": {},
   "outputs": [],
   "source": [
    "replace_list = []\n",
    "\n",
    "for station1 in station_locations['Stop Name']:\n",
    "    top_score = 0\n",
    "    for station2 in station_list:\n",
    "        score = similar(station1, station2)\n",
    "        if score > top_score:\n",
    "            top_score = score\n",
    "            station_match = station2\n",
    "    #print(station1, \" || \", station_match)\n",
    "    replace_list.append(station_match)"
   ]
  },
  {
   "cell_type": "code",
   "execution_count": 20,
   "metadata": {},
   "outputs": [],
   "source": [
    "station_locations['Stop Name'] = replace_list"
   ]
  },
  {
   "cell_type": "code",
   "execution_count": 21,
   "metadata": {},
   "outputs": [
    {
     "data": {
      "text/plain": [
       "338"
      ]
     },
     "execution_count": 21,
     "metadata": {},
     "output_type": "execute_result"
    }
   ],
   "source": [
    "set1 = set(station_locations['Stop Name'].unique())\n",
    "set2 = set(daily_means_weekly['STATION'].unique())\n",
    "\n",
    "len(set1.intersection(set2))"
   ]
  },
  {
   "cell_type": "code",
   "execution_count": 22,
   "metadata": {},
   "outputs": [
    {
     "data": {
      "text/html": [
       "<div>\n",
       "<style scoped>\n",
       "    .dataframe tbody tr th:only-of-type {\n",
       "        vertical-align: middle;\n",
       "    }\n",
       "\n",
       "    .dataframe tbody tr th {\n",
       "        vertical-align: top;\n",
       "    }\n",
       "\n",
       "    .dataframe thead th {\n",
       "        text-align: right;\n",
       "    }\n",
       "</style>\n",
       "<table border=\"1\" class=\"dataframe\">\n",
       "  <thead>\n",
       "    <tr style=\"text-align: right;\">\n",
       "      <th></th>\n",
       "      <th>STATION</th>\n",
       "      <th>Day of Week</th>\n",
       "      <th>ENTRIES</th>\n",
       "    </tr>\n",
       "  </thead>\n",
       "  <tbody>\n",
       "    <tr>\n",
       "      <th>0</th>\n",
       "      <td>1 AV</td>\n",
       "      <td>0</td>\n",
       "      <td>15817.779661</td>\n",
       "    </tr>\n",
       "    <tr>\n",
       "      <th>1</th>\n",
       "      <td>1 AV</td>\n",
       "      <td>1</td>\n",
       "      <td>17275.050847</td>\n",
       "    </tr>\n",
       "    <tr>\n",
       "      <th>2</th>\n",
       "      <td>1 AV</td>\n",
       "      <td>2</td>\n",
       "      <td>18004.661017</td>\n",
       "    </tr>\n",
       "    <tr>\n",
       "      <th>3</th>\n",
       "      <td>1 AV</td>\n",
       "      <td>3</td>\n",
       "      <td>18011.322034</td>\n",
       "    </tr>\n",
       "    <tr>\n",
       "      <th>4</th>\n",
       "      <td>1 AV</td>\n",
       "      <td>4</td>\n",
       "      <td>18247.237288</td>\n",
       "    </tr>\n",
       "  </tbody>\n",
       "</table>\n",
       "</div>"
      ],
      "text/plain": [
       "  STATION  Day of Week       ENTRIES\n",
       "0    1 AV            0  15817.779661\n",
       "1    1 AV            1  17275.050847\n",
       "2    1 AV            2  18004.661017\n",
       "3    1 AV            3  18011.322034\n",
       "4    1 AV            4  18247.237288"
      ]
     },
     "execution_count": 22,
     "metadata": {},
     "output_type": "execute_result"
    }
   ],
   "source": [
    "daily_means_weekly.head()"
   ]
  },
  {
   "cell_type": "code",
   "execution_count": 36,
   "metadata": {},
   "outputs": [],
   "source": [
    "top25 = daily_means_weekly[['STATION', 'ENTRIES']].groupby(by = 'STATION').agg(sum).sort_values('ENTRIES', ascending = False).head(25).reset_index()"
   ]
  },
  {
   "cell_type": "code",
   "execution_count": 26,
   "metadata": {},
   "outputs": [],
   "source": [
    "station_locations['STATION'] = list(station_locations['Stop Name'])"
   ]
  },
  {
   "cell_type": "code",
   "execution_count": 29,
   "metadata": {},
   "outputs": [],
   "source": [
    "station_locations.drop(columns = 'Stop Name', inplace = True)"
   ]
  },
  {
   "cell_type": "code",
   "execution_count": 38,
   "metadata": {},
   "outputs": [
    {
     "data": {
      "text/html": [
       "<div>\n",
       "<style scoped>\n",
       "    .dataframe tbody tr th:only-of-type {\n",
       "        vertical-align: middle;\n",
       "    }\n",
       "\n",
       "    .dataframe tbody tr th {\n",
       "        vertical-align: top;\n",
       "    }\n",
       "\n",
       "    .dataframe thead th {\n",
       "        text-align: right;\n",
       "    }\n",
       "</style>\n",
       "<table border=\"1\" class=\"dataframe\">\n",
       "  <thead>\n",
       "    <tr style=\"text-align: right;\">\n",
       "      <th></th>\n",
       "      <th>Station ID</th>\n",
       "      <th>Complex ID</th>\n",
       "      <th>GTFS Stop ID</th>\n",
       "      <th>Division</th>\n",
       "      <th>Line</th>\n",
       "      <th>Borough</th>\n",
       "      <th>Daytime Routes</th>\n",
       "      <th>Structure</th>\n",
       "      <th>GTFS Latitude</th>\n",
       "      <th>GTFS Longitude</th>\n",
       "      <th>North Direction Label</th>\n",
       "      <th>South Direction Label</th>\n",
       "      <th>STATION</th>\n",
       "    </tr>\n",
       "  </thead>\n",
       "  <tbody>\n",
       "    <tr>\n",
       "      <th>0</th>\n",
       "      <td>1</td>\n",
       "      <td>1</td>\n",
       "      <td>R01</td>\n",
       "      <td>BMT</td>\n",
       "      <td>Astoria</td>\n",
       "      <td>Q</td>\n",
       "      <td>N W</td>\n",
       "      <td>Elevated</td>\n",
       "      <td>40.775036</td>\n",
       "      <td>-73.912034</td>\n",
       "      <td>NaN</td>\n",
       "      <td>Manhattan</td>\n",
       "      <td>ASTORIA DITMARS</td>\n",
       "    </tr>\n",
       "    <tr>\n",
       "      <th>1</th>\n",
       "      <td>2</td>\n",
       "      <td>2</td>\n",
       "      <td>R03</td>\n",
       "      <td>BMT</td>\n",
       "      <td>Astoria</td>\n",
       "      <td>Q</td>\n",
       "      <td>N W</td>\n",
       "      <td>Elevated</td>\n",
       "      <td>40.770258</td>\n",
       "      <td>-73.917843</td>\n",
       "      <td>Ditmars Blvd</td>\n",
       "      <td>Manhattan</td>\n",
       "      <td>ASTORIA BLVD</td>\n",
       "    </tr>\n",
       "    <tr>\n",
       "      <th>2</th>\n",
       "      <td>3</td>\n",
       "      <td>3</td>\n",
       "      <td>R04</td>\n",
       "      <td>BMT</td>\n",
       "      <td>Astoria</td>\n",
       "      <td>Q</td>\n",
       "      <td>N W</td>\n",
       "      <td>Elevated</td>\n",
       "      <td>40.766779</td>\n",
       "      <td>-73.921479</td>\n",
       "      <td>Astoria - Ditmars Blvd</td>\n",
       "      <td>Manhattan</td>\n",
       "      <td>30 AV</td>\n",
       "    </tr>\n",
       "    <tr>\n",
       "      <th>3</th>\n",
       "      <td>4</td>\n",
       "      <td>4</td>\n",
       "      <td>R05</td>\n",
       "      <td>BMT</td>\n",
       "      <td>Astoria</td>\n",
       "      <td>Q</td>\n",
       "      <td>N W</td>\n",
       "      <td>Elevated</td>\n",
       "      <td>40.761820</td>\n",
       "      <td>-73.925508</td>\n",
       "      <td>Astoria - Ditmars Blvd</td>\n",
       "      <td>Manhattan</td>\n",
       "      <td>BROADWAY</td>\n",
       "    </tr>\n",
       "    <tr>\n",
       "      <th>4</th>\n",
       "      <td>5</td>\n",
       "      <td>5</td>\n",
       "      <td>R06</td>\n",
       "      <td>BMT</td>\n",
       "      <td>Astoria</td>\n",
       "      <td>Q</td>\n",
       "      <td>N W</td>\n",
       "      <td>Elevated</td>\n",
       "      <td>40.756804</td>\n",
       "      <td>-73.929575</td>\n",
       "      <td>Astoria - Ditmars Blvd</td>\n",
       "      <td>Manhattan</td>\n",
       "      <td>36 AV</td>\n",
       "    </tr>\n",
       "  </tbody>\n",
       "</table>\n",
       "</div>"
      ],
      "text/plain": [
       "   Station ID  Complex ID GTFS Stop ID Division     Line Borough  \\\n",
       "0           1           1          R01      BMT  Astoria       Q   \n",
       "1           2           2          R03      BMT  Astoria       Q   \n",
       "2           3           3          R04      BMT  Astoria       Q   \n",
       "3           4           4          R05      BMT  Astoria       Q   \n",
       "4           5           5          R06      BMT  Astoria       Q   \n",
       "\n",
       "  Daytime Routes Structure  GTFS Latitude  GTFS Longitude  \\\n",
       "0            N W  Elevated      40.775036      -73.912034   \n",
       "1            N W  Elevated      40.770258      -73.917843   \n",
       "2            N W  Elevated      40.766779      -73.921479   \n",
       "3            N W  Elevated      40.761820      -73.925508   \n",
       "4            N W  Elevated      40.756804      -73.929575   \n",
       "\n",
       "    North Direction Label South Direction Label          STATION  \n",
       "0                     NaN             Manhattan  ASTORIA DITMARS  \n",
       "1            Ditmars Blvd             Manhattan     ASTORIA BLVD  \n",
       "2  Astoria - Ditmars Blvd             Manhattan            30 AV  \n",
       "3  Astoria - Ditmars Blvd             Manhattan         BROADWAY  \n",
       "4  Astoria - Ditmars Blvd             Manhattan            36 AV  "
      ]
     },
     "execution_count": 38,
     "metadata": {},
     "output_type": "execute_result"
    }
   ],
   "source": [
    "station_locations.head()"
   ]
  },
  {
   "cell_type": "code",
   "execution_count": 41,
   "metadata": {},
   "outputs": [],
   "source": [
    "top25 = pd.merge(top25, station_locations, how = 'left', on = 'STATION')"
   ]
  },
  {
   "cell_type": "code",
   "execution_count": 46,
   "metadata": {},
   "outputs": [],
   "source": [
    "# Need to drop some of the stations from the merged dataframe because there were duplicate names in station_locations dataframe\n",
    "# These stations have very similar names to the ones that are actuall in the top25, but they should not be here.\n",
    "# Also need to add Lat Lon data manually for Path New WTC\n",
    "\n",
    "top25 = top25.drop([11, 15, 17, 28]).reset_index()\n",
    "top25 = top25[['STATION', 'ENTRIES', 'GTFS Latitude', 'GTFS Longitude']]"
   ]
  },
  {
   "cell_type": "code",
   "execution_count": 50,
   "metadata": {},
   "outputs": [],
   "source": [
    "top25.loc[15,'GTFS Latitude'] = 40.711835\n",
    "top25.loc[15, 'GTFS Longitude'] = -74.012188"
   ]
  },
  {
   "cell_type": "code",
   "execution_count": 148,
   "metadata": {},
   "outputs": [
    {
     "data": {
      "text/html": [
       "<div>\n",
       "<style scoped>\n",
       "    .dataframe tbody tr th:only-of-type {\n",
       "        vertical-align: middle;\n",
       "    }\n",
       "\n",
       "    .dataframe tbody tr th {\n",
       "        vertical-align: top;\n",
       "    }\n",
       "\n",
       "    .dataframe thead th {\n",
       "        text-align: right;\n",
       "    }\n",
       "</style>\n",
       "<table border=\"1\" class=\"dataframe\">\n",
       "  <thead>\n",
       "    <tr style=\"text-align: right;\">\n",
       "      <th></th>\n",
       "      <th>STATION</th>\n",
       "      <th>ENTRIES</th>\n",
       "      <th>GTFS Latitude</th>\n",
       "      <th>GTFS Longitude</th>\n",
       "    </tr>\n",
       "  </thead>\n",
       "  <tbody>\n",
       "    <tr>\n",
       "      <th>0</th>\n",
       "      <td>34 ST-PENN STA</td>\n",
       "      <td>879572.093220</td>\n",
       "      <td>40.752287</td>\n",
       "      <td>-73.993391</td>\n",
       "    </tr>\n",
       "    <tr>\n",
       "      <th>1</th>\n",
       "      <td>GRD CNTRL-42 ST</td>\n",
       "      <td>790266.043103</td>\n",
       "      <td>40.751776</td>\n",
       "      <td>-73.976848</td>\n",
       "    </tr>\n",
       "    <tr>\n",
       "      <th>2</th>\n",
       "      <td>34 ST-HERALD SQ</td>\n",
       "      <td>656823.525424</td>\n",
       "      <td>40.749567</td>\n",
       "      <td>-73.987950</td>\n",
       "    </tr>\n",
       "    <tr>\n",
       "      <th>3</th>\n",
       "      <td>23 ST</td>\n",
       "      <td>578143.059322</td>\n",
       "      <td>40.741303</td>\n",
       "      <td>-73.989344</td>\n",
       "    </tr>\n",
       "    <tr>\n",
       "      <th>4</th>\n",
       "      <td>42 ST-PORT AUTH</td>\n",
       "      <td>562587.110169</td>\n",
       "      <td>40.757308</td>\n",
       "      <td>-73.989735</td>\n",
       "    </tr>\n",
       "  </tbody>\n",
       "</table>\n",
       "</div>"
      ],
      "text/plain": [
       "           STATION        ENTRIES  GTFS Latitude  GTFS Longitude\n",
       "0   34 ST-PENN STA  879572.093220      40.752287      -73.993391\n",
       "1  GRD CNTRL-42 ST  790266.043103      40.751776      -73.976848\n",
       "2  34 ST-HERALD SQ  656823.525424      40.749567      -73.987950\n",
       "3            23 ST  578143.059322      40.741303      -73.989344\n",
       "4  42 ST-PORT AUTH  562587.110169      40.757308      -73.989735"
      ]
     },
     "execution_count": 148,
     "metadata": {},
     "output_type": "execute_result"
    }
   ],
   "source": [
    "top25.head()"
   ]
  },
  {
   "cell_type": "code",
   "execution_count": 101,
   "metadata": {},
   "outputs": [],
   "source": [
    "import folium"
   ]
  },
  {
   "cell_type": "code",
   "execution_count": 131,
   "metadata": {},
   "outputs": [],
   "source": [
    "day_map = {0: \"Monday\", 1: \"Tuesday\", 2: \"Wednesday\", 3: \"Thursday\", 4: \"Friday\", 5: \"Saturday\", 6: \"Sunday\"}"
   ]
  },
  {
   "cell_type": "code",
   "execution_count": 107,
   "metadata": {},
   "outputs": [],
   "source": [
    "lat_mean = top25['GTFS Latitude'].mean()\n",
    "lon_mean = top25['GTFS Longitude'].mean()"
   ]
  },
  {
   "cell_type": "code",
   "execution_count": 133,
   "metadata": {},
   "outputs": [],
   "source": [
    "def create_popup_string(i, row):\n",
    "    \n",
    "    weekly_total = str(int(round(row['ENTRIES'],-3) / 1000))\n",
    "    \n",
    "    popup_string = \"<h3>\" + row['STATION'] + \"</h3>\"\n",
    "    popup_string += \"Rank: <strong>\" + str(i + 1) + \"</strong><br>\"\n",
    "    popup_string += \"Weekly total: <strong>\" + weekly_total + \" K</strong><br>\"\n",
    "\n",
    "    for day in range(0,7):\n",
    "        station = row['STATION']\n",
    "        \n",
    "        day_total = daily_means_weekly[(daily_means_weekly['STATION'] == station) & (daily_means_weekly['Day of Week'] == day)]['ENTRIES'].iloc[0]\n",
    "        day_total = str(int(round(day_total, -3) / 1000))\n",
    "        \n",
    "        popup_string += day_map[day] + \": <strong>\" + day_total + \" K</strong><br>\"\n",
    "        \n",
    "    return(popup_string)  "
   ]
  },
  {
   "cell_type": "code",
   "execution_count": 142,
   "metadata": {},
   "outputs": [],
   "source": [
    "def color_size(row):\n",
    "    entries = row['ENTRIES']\n",
    "    if entries > 600000:\n",
    "        color = 'red'\n",
    "        size = 14\n",
    "    elif entries > 400000:\n",
    "        color = 'yellow'\n",
    "        size = 12\n",
    "    elif entries > 300000:\n",
    "        color = 'green'\n",
    "        size = 10\n",
    "    else:\n",
    "        color = 'blue'\n",
    "        size = 8\n",
    "    return color, size"
   ]
  },
  {
   "cell_type": "code",
   "execution_count": 147,
   "metadata": {},
   "outputs": [
    {
     "data": {
      "text/html": [
       "<div style=\"width:100%;\"><div style=\"position:relative;width:100%;height:0;padding-bottom:60%;\"><iframe src=\"data:text/html;charset=utf-8;base64,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\" style=\"position:absolute;width:100%;height:100%;left:0;top:0;border:none !important;\" allowfullscreen webkitallowfullscreen mozallowfullscreen></iframe></div></div>"
      ],
      "text/plain": [
       "<folium.folium.Map at 0x10e30d320>"
      ]
     },
     "execution_count": 147,
     "metadata": {},
     "output_type": "execute_result"
    }
   ],
   "source": [
    "station_map = folium.Map(location=[lat_mean, lon_mean], zoom_start=12, tiles=\"OpenStreetMap\")\n",
    "\n",
    "fg_stations = folium.FeatureGroup(name=\"Stations\")\n",
    "\n",
    "for i, row in top25.iterrows():\n",
    "    \n",
    "    lat = row['GTFS Latitude']\n",
    "    lon = row['GTFS Longitude']\n",
    "    \n",
    "    popup_string = create_popup_string(i, row)\n",
    "    color, size = color_size(row)\n",
    "    \n",
    "    \n",
    "    iframe = folium.IFrame(html=popup_string, width=250, height=250)\n",
    "    \n",
    "    fg_stations.add_child(folium.CircleMarker(location=[lat, lon], radius = size, popup = folium.Popup(iframe, max_width = 2650),\n",
    "    fill_color = color, fill = True,  color = 'grey', fill_opacity = 0.7, tooltip = row['STATION']))\n",
    "\n",
    "\n",
    "station_map.add_child(fg_stations)\n",
    "station_map.add_child(folium.LayerControl())\n",
    "station_map.save(\"station_map.html\")\n",
    "station_map"
   ]
  },
  {
   "cell_type": "code",
   "execution_count": null,
   "metadata": {},
   "outputs": [],
   "source": []
  }
 ],
 "metadata": {
  "kernelspec": {
   "display_name": "Python 3",
   "language": "python",
   "name": "python3"
  },
  "language_info": {
   "codemirror_mode": {
    "name": "ipython",
    "version": 3
   },
   "file_extension": ".py",
   "mimetype": "text/x-python",
   "name": "python",
   "nbconvert_exporter": "python",
   "pygments_lexer": "ipython3",
   "version": "3.7.3"
  }
 },
 "nbformat": 4,
 "nbformat_minor": 2
}
