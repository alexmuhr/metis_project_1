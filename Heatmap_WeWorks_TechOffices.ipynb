{
 "cells": [
  {
   "cell_type": "code",
   "execution_count": 1,
   "metadata": {},
   "outputs": [],
   "source": [
    "import pandas as pd"
   ]
  },
  {
   "cell_type": "code",
   "execution_count": 2,
   "metadata": {},
   "outputs": [
    {
     "name": "stdout",
     "output_type": "stream",
     "text": [
      "Demographic_Statistics_By_Zip_Code.csv seth_not_master.ipynb\r\n",
      "Project1_Master.ipynb                  seth_notebook.ipynb\r\n",
      "\u001b[1m\u001b[34mSplit_Turnstiles\u001b[m\u001b[m                       seth_some_geo_graphs.ipynb\r\n",
      "challenge_set_1_muhr.ipynb             station_lats_longs.csv\r\n",
      "csv_for_challenge.csv                  testmap.html\r\n",
      "geckodriver.log                        \u001b[1m\u001b[34mturnstile\u001b[m\u001b[m\r\n",
      "google_api_geocode.txt                 turnstile_data.ipynb\r\n",
      "google_api_get_tech_companies.ipynb    turnstile_data_2.ipynb\r\n",
      "my_file.txt\r\n"
     ]
    }
   ],
   "source": [
    "!LS"
   ]
  },
  {
   "cell_type": "code",
   "execution_count": 3,
   "metadata": {},
   "outputs": [],
   "source": [
    "stations = pd.read_csv(\"station_lats_longs.csv\")"
   ]
  },
  {
   "cell_type": "code",
   "execution_count": 4,
   "metadata": {},
   "outputs": [
    {
     "data": {
      "text/html": [
       "<div>\n",
       "<style scoped>\n",
       "    .dataframe tbody tr th:only-of-type {\n",
       "        vertical-align: middle;\n",
       "    }\n",
       "\n",
       "    .dataframe tbody tr th {\n",
       "        vertical-align: top;\n",
       "    }\n",
       "\n",
       "    .dataframe thead th {\n",
       "        text-align: right;\n",
       "    }\n",
       "</style>\n",
       "<table border=\"1\" class=\"dataframe\">\n",
       "  <thead>\n",
       "    <tr style=\"text-align: right;\">\n",
       "      <th></th>\n",
       "      <th>Division</th>\n",
       "      <th>Line</th>\n",
       "      <th>Station_Name</th>\n",
       "      <th>Station_Latitude</th>\n",
       "      <th>Station_Longitude</th>\n",
       "      <th>Route_1</th>\n",
       "      <th>Route_2</th>\n",
       "      <th>Route_3</th>\n",
       "      <th>Route_4</th>\n",
       "      <th>Route_5</th>\n",
       "      <th>...</th>\n",
       "      <th>Staffing</th>\n",
       "      <th>Staff_Hours</th>\n",
       "      <th>ADA</th>\n",
       "      <th>ADA_Notes</th>\n",
       "      <th>Free_Crossover</th>\n",
       "      <th>North_South_Street</th>\n",
       "      <th>East_West_Street</th>\n",
       "      <th>Corner</th>\n",
       "      <th>Latitude</th>\n",
       "      <th>Longitude</th>\n",
       "    </tr>\n",
       "  </thead>\n",
       "  <tbody>\n",
       "    <tr>\n",
       "      <th>0</th>\n",
       "      <td>BMT</td>\n",
       "      <td>Astoria</td>\n",
       "      <td>Ditmars Blvd</td>\n",
       "      <td>40.775036</td>\n",
       "      <td>-73.912034</td>\n",
       "      <td>N</td>\n",
       "      <td>Q</td>\n",
       "      <td>NaN</td>\n",
       "      <td>NaN</td>\n",
       "      <td>NaN</td>\n",
       "      <td>...</td>\n",
       "      <td>FULL</td>\n",
       "      <td>NaN</td>\n",
       "      <td>False</td>\n",
       "      <td>NaN</td>\n",
       "      <td>True</td>\n",
       "      <td>31st St</td>\n",
       "      <td>23rd Ave</td>\n",
       "      <td>NW</td>\n",
       "      <td>40.775149</td>\n",
       "      <td>-73.912074</td>\n",
       "    </tr>\n",
       "    <tr>\n",
       "      <th>1</th>\n",
       "      <td>BMT</td>\n",
       "      <td>Astoria</td>\n",
       "      <td>Ditmars Blvd</td>\n",
       "      <td>40.775036</td>\n",
       "      <td>-73.912034</td>\n",
       "      <td>N</td>\n",
       "      <td>Q</td>\n",
       "      <td>NaN</td>\n",
       "      <td>NaN</td>\n",
       "      <td>NaN</td>\n",
       "      <td>...</td>\n",
       "      <td>FULL</td>\n",
       "      <td>NaN</td>\n",
       "      <td>False</td>\n",
       "      <td>NaN</td>\n",
       "      <td>True</td>\n",
       "      <td>31st St</td>\n",
       "      <td>23rd Ave</td>\n",
       "      <td>NE</td>\n",
       "      <td>40.774810</td>\n",
       "      <td>-73.912151</td>\n",
       "    </tr>\n",
       "    <tr>\n",
       "      <th>2</th>\n",
       "      <td>BMT</td>\n",
       "      <td>Astoria</td>\n",
       "      <td>Ditmars Blvd</td>\n",
       "      <td>40.775036</td>\n",
       "      <td>-73.912034</td>\n",
       "      <td>N</td>\n",
       "      <td>Q</td>\n",
       "      <td>NaN</td>\n",
       "      <td>NaN</td>\n",
       "      <td>NaN</td>\n",
       "      <td>...</td>\n",
       "      <td>FULL</td>\n",
       "      <td>NaN</td>\n",
       "      <td>False</td>\n",
       "      <td>NaN</td>\n",
       "      <td>True</td>\n",
       "      <td>31st St</td>\n",
       "      <td>23rd Ave</td>\n",
       "      <td>NE</td>\n",
       "      <td>40.775025</td>\n",
       "      <td>-73.911891</td>\n",
       "    </tr>\n",
       "    <tr>\n",
       "      <th>3</th>\n",
       "      <td>BMT</td>\n",
       "      <td>Astoria</td>\n",
       "      <td>Ditmars Blvd</td>\n",
       "      <td>40.775036</td>\n",
       "      <td>-73.912034</td>\n",
       "      <td>N</td>\n",
       "      <td>Q</td>\n",
       "      <td>NaN</td>\n",
       "      <td>NaN</td>\n",
       "      <td>NaN</td>\n",
       "      <td>...</td>\n",
       "      <td>FULL</td>\n",
       "      <td>NaN</td>\n",
       "      <td>False</td>\n",
       "      <td>NaN</td>\n",
       "      <td>True</td>\n",
       "      <td>31st St</td>\n",
       "      <td>23rd Ave</td>\n",
       "      <td>NW</td>\n",
       "      <td>40.774938</td>\n",
       "      <td>-73.912337</td>\n",
       "    </tr>\n",
       "    <tr>\n",
       "      <th>4</th>\n",
       "      <td>BMT</td>\n",
       "      <td>Astoria</td>\n",
       "      <td>Astoria Blvd-Hoyt Av</td>\n",
       "      <td>40.770258</td>\n",
       "      <td>-73.917843</td>\n",
       "      <td>N</td>\n",
       "      <td>Q</td>\n",
       "      <td>NaN</td>\n",
       "      <td>NaN</td>\n",
       "      <td>NaN</td>\n",
       "      <td>...</td>\n",
       "      <td>FULL</td>\n",
       "      <td>NaN</td>\n",
       "      <td>False</td>\n",
       "      <td>NaN</td>\n",
       "      <td>True</td>\n",
       "      <td>31st St</td>\n",
       "      <td>Hoyt Ave South</td>\n",
       "      <td>SW</td>\n",
       "      <td>40.770313</td>\n",
       "      <td>-73.917978</td>\n",
       "    </tr>\n",
       "  </tbody>\n",
       "</table>\n",
       "<p>5 rows × 30 columns</p>\n",
       "</div>"
      ],
      "text/plain": [
       "  Division     Line          Station_Name  Station_Latitude  \\\n",
       "0      BMT  Astoria          Ditmars Blvd         40.775036   \n",
       "1      BMT  Astoria          Ditmars Blvd         40.775036   \n",
       "2      BMT  Astoria          Ditmars Blvd         40.775036   \n",
       "3      BMT  Astoria          Ditmars Blvd         40.775036   \n",
       "4      BMT  Astoria  Astoria Blvd-Hoyt Av         40.770258   \n",
       "\n",
       "   Station_Longitude Route_1 Route_2 Route_3 Route_4 Route_5  ... Staffing  \\\n",
       "0         -73.912034       N       Q     NaN     NaN     NaN  ...     FULL   \n",
       "1         -73.912034       N       Q     NaN     NaN     NaN  ...     FULL   \n",
       "2         -73.912034       N       Q     NaN     NaN     NaN  ...     FULL   \n",
       "3         -73.912034       N       Q     NaN     NaN     NaN  ...     FULL   \n",
       "4         -73.917843       N       Q     NaN     NaN     NaN  ...     FULL   \n",
       "\n",
       "  Staff_Hours    ADA  ADA_Notes  Free_Crossover  North_South_Street  \\\n",
       "0         NaN  False        NaN            True             31st St   \n",
       "1         NaN  False        NaN            True             31st St   \n",
       "2         NaN  False        NaN            True             31st St   \n",
       "3         NaN  False        NaN            True             31st St   \n",
       "4         NaN  False        NaN            True             31st St   \n",
       "\n",
       "  East_West_Street Corner   Latitude  Longitude  \n",
       "0         23rd Ave     NW  40.775149 -73.912074  \n",
       "1         23rd Ave     NE  40.774810 -73.912151  \n",
       "2         23rd Ave     NE  40.775025 -73.911891  \n",
       "3         23rd Ave     NW  40.774938 -73.912337  \n",
       "4   Hoyt Ave South     SW  40.770313 -73.917978  \n",
       "\n",
       "[5 rows x 30 columns]"
      ]
     },
     "execution_count": 4,
     "metadata": {},
     "output_type": "execute_result"
    }
   ],
   "source": [
    "stations.head()"
   ]
  },
  {
   "cell_type": "code",
   "execution_count": 5,
   "metadata": {},
   "outputs": [],
   "source": [
    "import folium"
   ]
  },
  {
   "cell_type": "code",
   "execution_count": 6,
   "metadata": {},
   "outputs": [],
   "source": [
    "def generateBaseMap(default_location=[40.693943, -73.985880], default_zoom=12):\n",
    "    base_map = folium.Map(location=default_location,control_scale=True,zoom_start=default_zoom,tiles='Stamen Toner')\n",
    "    return base_map"
   ]
  },
  {
   "cell_type": "code",
   "execution_count": 7,
   "metadata": {},
   "outputs": [
    {
     "data": {
      "text/html": [
       "<div style=\"width:100%;\"><div style=\"position:relative;width:100%;height:0;padding-bottom:60%;\"><iframe src=\"data:text/html;charset=utf-8;base64,PCFET0NUWVBFIGh0bWw+CjxoZWFkPiAgICAKICAgIDxtZXRhIGh0dHAtZXF1aXY9ImNvbnRlbnQtdHlwZSIgY29udGVudD0idGV4dC9odG1sOyBjaGFyc2V0PVVURi04IiAvPgogICAgCiAgICAgICAgPHNjcmlwdD4KICAgICAgICAgICAgTF9OT19UT1VDSCA9IGZhbHNlOwogICAgICAgICAgICBMX0RJU0FCTEVfM0QgPSBmYWxzZTsKICAgICAgICA8L3NjcmlwdD4KICAgIAogICAgPHNjcmlwdCBzcmM9Imh0dHBzOi8vY2RuLmpzZGVsaXZyLm5ldC9ucG0vbGVhZmxldEAxLjQuMC9kaXN0L2xlYWZsZXQuanMiPjwvc2NyaXB0PgogICAgPHNjcmlwdCBzcmM9Imh0dHBzOi8vY29kZS5qcXVlcnkuY29tL2pxdWVyeS0xLjEyLjQubWluLmpzIj48L3NjcmlwdD4KICAgIDxzY3JpcHQgc3JjPSJodHRwczovL21heGNkbi5ib290c3RyYXBjZG4uY29tL2Jvb3RzdHJhcC8zLjIuMC9qcy9ib290c3RyYXAubWluLmpzIj48L3NjcmlwdD4KICAgIDxzY3JpcHQgc3JjPSJodHRwczovL2NkbmpzLmNsb3VkZmxhcmUuY29tL2FqYXgvbGlicy9MZWFmbGV0LmF3ZXNvbWUtbWFya2Vycy8yLjAuMi9sZWFmbGV0LmF3ZXNvbWUtbWFya2Vycy5qcyI+PC9zY3JpcHQ+CiAgICA8bGluayByZWw9InN0eWxlc2hlZXQiIGhyZWY9Imh0dHBzOi8vY2RuLmpzZGVsaXZyLm5ldC9ucG0vbGVhZmxldEAxLjQuMC9kaXN0L2xlYWZsZXQuY3NzIi8+CiAgICA8bGluayByZWw9InN0eWxlc2hlZXQiIGhyZWY9Imh0dHBzOi8vbWF4Y2RuLmJvb3RzdHJhcGNkbi5jb20vYm9vdHN0cmFwLzMuMi4wL2Nzcy9ib290c3RyYXAubWluLmNzcyIvPgogICAgPGxpbmsgcmVsPSJzdHlsZXNoZWV0IiBocmVmPSJodHRwczovL21heGNkbi5ib290c3RyYXBjZG4uY29tL2Jvb3RzdHJhcC8zLjIuMC9jc3MvYm9vdHN0cmFwLXRoZW1lLm1pbi5jc3MiLz4KICAgIDxsaW5rIHJlbD0ic3R5bGVzaGVldCIgaHJlZj0iaHR0cHM6Ly9tYXhjZG4uYm9vdHN0cmFwY2RuLmNvbS9mb250LWF3ZXNvbWUvNC42LjMvY3NzL2ZvbnQtYXdlc29tZS5taW4uY3NzIi8+CiAgICA8bGluayByZWw9InN0eWxlc2hlZXQiIGhyZWY9Imh0dHBzOi8vY2RuanMuY2xvdWRmbGFyZS5jb20vYWpheC9saWJzL0xlYWZsZXQuYXdlc29tZS1tYXJrZXJzLzIuMC4yL2xlYWZsZXQuYXdlc29tZS1tYXJrZXJzLmNzcyIvPgogICAgPGxpbmsgcmVsPSJzdHlsZXNoZWV0IiBocmVmPSJodHRwczovL3Jhd2Nkbi5naXRoYWNrLmNvbS9weXRob24tdmlzdWFsaXphdGlvbi9mb2xpdW0vbWFzdGVyL2ZvbGl1bS90ZW1wbGF0ZXMvbGVhZmxldC5hd2Vzb21lLnJvdGF0ZS5jc3MiLz4KICAgIDxzdHlsZT5odG1sLCBib2R5IHt3aWR0aDogMTAwJTtoZWlnaHQ6IDEwMCU7bWFyZ2luOiAwO3BhZGRpbmc6IDA7fTwvc3R5bGU+CiAgICA8c3R5bGU+I21hcCB7cG9zaXRpb246YWJzb2x1dGU7dG9wOjA7Ym90dG9tOjA7cmlnaHQ6MDtsZWZ0OjA7fTwvc3R5bGU+CiAgICAKICAgICAgICAgICAgPG1ldGEgbmFtZT0idmlld3BvcnQiIGNvbnRlbnQ9IndpZHRoPWRldmljZS13aWR0aCwKICAgICAgICAgICAgICAgIGluaXRpYWwtc2NhbGU9MS4wLCBtYXhpbXVtLXNjYWxlPTEuMCwgdXNlci1zY2FsYWJsZT1ubyIgLz4KICAgICAgICAgICAgPHN0eWxlPgogICAgICAgICAgICAgICAgI21hcF84YTJhZTQyNjM3ZTk0ZGE2OTkzMzZmZjk1YmRiYTQxMCB7CiAgICAgICAgICAgICAgICAgICAgcG9zaXRpb246IHJlbGF0aXZlOwogICAgICAgICAgICAgICAgICAgIHdpZHRoOiAxMDAuMCU7CiAgICAgICAgICAgICAgICAgICAgaGVpZ2h0OiAxMDAuMCU7CiAgICAgICAgICAgICAgICAgICAgbGVmdDogMC4wJTsKICAgICAgICAgICAgICAgICAgICB0b3A6IDAuMCU7CiAgICAgICAgICAgICAgICB9CiAgICAgICAgICAgIDwvc3R5bGU+CiAgICAgICAgCjwvaGVhZD4KPGJvZHk+ICAgIAogICAgCiAgICAgICAgICAgIDxkaXYgY2xhc3M9ImZvbGl1bS1tYXAiIGlkPSJtYXBfOGEyYWU0MjYzN2U5NGRhNjk5MzM2ZmY5NWJkYmE0MTAiID48L2Rpdj4KICAgICAgICAKPC9ib2R5Pgo8c2NyaXB0PiAgICAKICAgIAogICAgICAgICAgICB2YXIgbWFwXzhhMmFlNDI2MzdlOTRkYTY5OTMzNmZmOTViZGJhNDEwID0gTC5tYXAoCiAgICAgICAgICAgICAgICAibWFwXzhhMmFlNDI2MzdlOTRkYTY5OTMzNmZmOTViZGJhNDEwIiwKICAgICAgICAgICAgICAgIHsKICAgICAgICAgICAgICAgICAgICBjZW50ZXI6IFs0MC42OTM5NDMsIC03My45ODU4OF0sCiAgICAgICAgICAgICAgICAgICAgY3JzOiBMLkNSUy5FUFNHMzg1NywKICAgICAgICAgICAgICAgICAgICB6b29tOiAxMiwKICAgICAgICAgICAgICAgICAgICB6b29tQ29udHJvbDogdHJ1ZSwKICAgICAgICAgICAgICAgICAgICBwcmVmZXJDYW52YXM6IGZhbHNlLAogICAgICAgICAgICAgICAgfQogICAgICAgICAgICApOwogICAgICAgICAgICBMLmNvbnRyb2wuc2NhbGUoKS5hZGRUbyhtYXBfOGEyYWU0MjYzN2U5NGRhNjk5MzM2ZmY5NWJkYmE0MTApOwoKICAgICAgICAgICAgCgogICAgICAgIAogICAgCiAgICAgICAgICAgIHZhciB0aWxlX2xheWVyX2I0Y2NhNjdkY2VkNjRkYjViYmRmNGNjNWZiZjVjYWZhID0gTC50aWxlTGF5ZXIoCiAgICAgICAgICAgICAgICAiaHR0cHM6Ly9zdGFtZW4tdGlsZXMte3N9LmEuc3NsLmZhc3RseS5uZXQvdG9uZXIve3p9L3t4fS97eX0ucG5nIiwKICAgICAgICAgICAgICAgIHsiYXR0cmlidXRpb24iOiAiTWFwIHRpbGVzIGJ5IFx1MDAzY2EgaHJlZj1cImh0dHA6Ly9zdGFtZW4uY29tXCJcdTAwM2VTdGFtZW4gRGVzaWduXHUwMDNjL2FcdTAwM2UsIHVuZGVyIFx1MDAzY2EgaHJlZj1cImh0dHA6Ly9jcmVhdGl2ZWNvbW1vbnMub3JnL2xpY2Vuc2VzL2J5LzMuMFwiXHUwMDNlQ0MgQlkgMy4wXHUwMDNjL2FcdTAwM2UuIERhdGEgYnkgXHUwMDI2Y29weTsgXHUwMDNjYSBocmVmPVwiaHR0cDovL29wZW5zdHJlZXRtYXAub3JnXCJcdTAwM2VPcGVuU3RyZWV0TWFwXHUwMDNjL2FcdTAwM2UsIHVuZGVyIFx1MDAzY2EgaHJlZj1cImh0dHA6Ly93d3cub3BlbnN0cmVldG1hcC5vcmcvY29weXJpZ2h0XCJcdTAwM2VPRGJMXHUwMDNjL2FcdTAwM2UuIiwgImRldGVjdFJldGluYSI6IGZhbHNlLCAibWF4TmF0aXZlWm9vbSI6IDE4LCAibWF4Wm9vbSI6IDE4LCAibWluWm9vbSI6IDAsICJub1dyYXAiOiBmYWxzZSwgIm9wYWNpdHkiOiAxLCAic3ViZG9tYWlucyI6ICJhYmMiLCAidG1zIjogZmFsc2V9CiAgICAgICAgICAgICkuYWRkVG8obWFwXzhhMmFlNDI2MzdlOTRkYTY5OTMzNmZmOTViZGJhNDEwKTsKICAgICAgICAKPC9zY3JpcHQ+\" style=\"position:absolute;width:100%;height:100%;left:0;top:0;border:none !important;\" allowfullscreen webkitallowfullscreen mozallowfullscreen></iframe></div></div>"
      ],
      "text/plain": [
       "<folium.folium.Map at 0x11a2ffef0>"
      ]
     },
     "execution_count": 7,
     "metadata": {},
     "output_type": "execute_result"
    }
   ],
   "source": [
    "base_map = generateBaseMap()\n",
    "base_map"
   ]
  },
  {
   "cell_type": "code",
   "execution_count": 8,
   "metadata": {},
   "outputs": [],
   "source": [
    "from folium.plugins import HeatMap\n"
   ]
  },
  {
   "cell_type": "code",
   "execution_count": null,
   "metadata": {},
   "outputs": [],
   "source": []
  },
  {
   "cell_type": "code",
   "execution_count": 9,
   "metadata": {},
   "outputs": [],
   "source": [
    "dict_stations = {\"23 ST\": (40.771360,-73.924780),\"GRD CNTRL-42 ST\": (40.749250,-73.977260), \"34 ST-PENN STA\": (40.7511,-73.9903), \"34 ST-HERALD SQ\": (40.7489,-73.9888), \"42 ST-PORT AU\": (40.45,-73.59)}\n"
   ]
  },
  {
   "cell_type": "code",
   "execution_count": 10,
   "metadata": {},
   "outputs": [
    {
     "name": "stdout",
     "output_type": "stream",
     "text": [
      "[40.77136, -73.92478]\n",
      "[40.74925, -73.97726]\n",
      "[40.7511, -73.9903]\n",
      "[40.7489, -73.9888]\n",
      "[40.45, -73.59]\n"
     ]
    }
   ],
   "source": [
    "base_map = generateBaseMap()\n",
    "base_map\n",
    "for name,tuple_lat_lon in dict_stations.items():\n",
    "    print(list(tuple_lat_lon))\n",
    "    folium.Marker(list(tuple_lat_lon),popup=name).add_to(base_map)"
   ]
  },
  {
   "cell_type": "code",
   "execution_count": 11,
   "metadata": {},
   "outputs": [],
   "source": [
    "zip_code_demographics = pd.read_csv(\"Demographic_Statistics_By_Zip_Code.csv\")"
   ]
  },
  {
   "cell_type": "code",
   "execution_count": 12,
   "metadata": {},
   "outputs": [],
   "source": [
    "zip_codes = {10001,10002,10003,10014,10012,10018,10005,10009,10003,10004,10006,10007,10008,10009,100011}"
   ]
  },
  {
   "cell_type": "code",
   "execution_count": 13,
   "metadata": {},
   "outputs": [],
   "source": [
    "dict_longitude_income = {\"10001\":[(40.750633,-73.997),161227],\"10002\":[(40.715775,-73.989),65718],\"10003\":[(40.731829, -73.989181),182531], \"10004\": [(40.688630, -74.018244),191760],\"10005\":[(40.706027, -74.008835),201734], \"10006\": [(40.709614, -74.012954),196771],\"10007\": [(40.713848, -74.007755),376573], \"10009\": [(40.726399, -73.978631),90523], \"10010\": [(40.739065, -73.982255),88872],\"10012\": [(40.725581, -73.998078),160244], \"10013\": [(40.720103, -74.004903),252811], \"10014\": [(40.734012, -74.006746),204690], \"10018\": [(40.755319, -73.993114), 152396]}\n",
    "\n"
   ]
  },
  {
   "cell_type": "code",
   "execution_count": 14,
   "metadata": {},
   "outputs": [
    {
     "data": {
      "text/plain": [
       "{'10001': [(40.750633, -73.997), 161227],\n",
       " '10002': [(40.715775, -73.989), 65718],\n",
       " '10003': [(40.731829, -73.989181), 182531],\n",
       " '10004': [(40.68863, -74.018244), 191760],\n",
       " '10005': [(40.706027, -74.008835), 201734],\n",
       " '10006': [(40.709614, -74.012954), 196771],\n",
       " '10007': [(40.713848, -74.007755), 376573],\n",
       " '10009': [(40.726399, -73.978631), 90523],\n",
       " '10010': [(40.739065, -73.982255), 88872],\n",
       " '10012': [(40.725581, -73.998078), 160244],\n",
       " '10013': [(40.720103, -74.004903), 252811],\n",
       " '10014': [(40.734012, -74.006746), 204690],\n",
       " '10018': [(40.755319, -73.993114), 152396]}"
      ]
     },
     "execution_count": 14,
     "metadata": {},
     "output_type": "execute_result"
    }
   ],
   "source": [
    "dict_longitude_income"
   ]
  },
  {
   "cell_type": "code",
   "execution_count": 15,
   "metadata": {},
   "outputs": [],
   "source": [
    "col_zips=[]\n",
    "col_incomes=[]\n",
    "col_lats=[]\n",
    "col_longs=[]"
   ]
  },
  {
   "cell_type": "code",
   "execution_count": 16,
   "metadata": {},
   "outputs": [],
   "source": [
    "for key, value in dict_longitude_income.items():\n",
    "    col_zips.append(key)\n",
    "    col_incomes.append(value[1])\n",
    "    col_lats.append(value[0][0])\n",
    "    col_longs.append(value[0][1])"
   ]
  },
  {
   "cell_type": "code",
   "execution_count": 17,
   "metadata": {},
   "outputs": [],
   "source": [
    "import numpy as np"
   ]
  },
  {
   "cell_type": "code",
   "execution_count": 18,
   "metadata": {},
   "outputs": [
    {
     "data": {
      "text/plain": [
       "13"
      ]
     },
     "execution_count": 18,
     "metadata": {},
     "output_type": "execute_result"
    }
   ],
   "source": [
    "len(col_incomes)"
   ]
  },
  {
   "cell_type": "code",
   "execution_count": 19,
   "metadata": {},
   "outputs": [],
   "source": [
    "col_zips=np.array(col_zips)\n",
    "col_incs = np.array(col_incomes)\n",
    "col_lats = np.array(col_lats)\n",
    "col_longs = np.array(col_longs)\n"
   ]
  },
  {
   "cell_type": "code",
   "execution_count": 20,
   "metadata": {},
   "outputs": [],
   "source": [
    "df_make = [col_zips,col_incomes,col_lats,col_longs]"
   ]
  },
  {
   "cell_type": "code",
   "execution_count": 21,
   "metadata": {},
   "outputs": [],
   "source": [
    "df_lats_lons_inc = pd.DataFrame(df_make)"
   ]
  },
  {
   "cell_type": "code",
   "execution_count": 22,
   "metadata": {},
   "outputs": [],
   "source": [
    "df_lats_lons_inc = df_lats_lons_inc.transpose()"
   ]
  },
  {
   "cell_type": "code",
   "execution_count": 23,
   "metadata": {},
   "outputs": [
    {
     "data": {
      "text/html": [
       "<div>\n",
       "<style scoped>\n",
       "    .dataframe tbody tr th:only-of-type {\n",
       "        vertical-align: middle;\n",
       "    }\n",
       "\n",
       "    .dataframe tbody tr th {\n",
       "        vertical-align: top;\n",
       "    }\n",
       "\n",
       "    .dataframe thead th {\n",
       "        text-align: right;\n",
       "    }\n",
       "</style>\n",
       "<table border=\"1\" class=\"dataframe\">\n",
       "  <thead>\n",
       "    <tr style=\"text-align: right;\">\n",
       "      <th></th>\n",
       "      <th>0</th>\n",
       "      <th>1</th>\n",
       "      <th>2</th>\n",
       "      <th>3</th>\n",
       "    </tr>\n",
       "  </thead>\n",
       "  <tbody>\n",
       "    <tr>\n",
       "      <th>0</th>\n",
       "      <td>10001</td>\n",
       "      <td>161227</td>\n",
       "      <td>40.7506</td>\n",
       "      <td>-73.997</td>\n",
       "    </tr>\n",
       "    <tr>\n",
       "      <th>1</th>\n",
       "      <td>10002</td>\n",
       "      <td>65718</td>\n",
       "      <td>40.7158</td>\n",
       "      <td>-73.989</td>\n",
       "    </tr>\n",
       "    <tr>\n",
       "      <th>2</th>\n",
       "      <td>10003</td>\n",
       "      <td>182531</td>\n",
       "      <td>40.7318</td>\n",
       "      <td>-73.9892</td>\n",
       "    </tr>\n",
       "    <tr>\n",
       "      <th>3</th>\n",
       "      <td>10004</td>\n",
       "      <td>191760</td>\n",
       "      <td>40.6886</td>\n",
       "      <td>-74.0182</td>\n",
       "    </tr>\n",
       "    <tr>\n",
       "      <th>4</th>\n",
       "      <td>10005</td>\n",
       "      <td>201734</td>\n",
       "      <td>40.706</td>\n",
       "      <td>-74.0088</td>\n",
       "    </tr>\n",
       "  </tbody>\n",
       "</table>\n",
       "</div>"
      ],
      "text/plain": [
       "       0       1        2        3\n",
       "0  10001  161227  40.7506  -73.997\n",
       "1  10002   65718  40.7158  -73.989\n",
       "2  10003  182531  40.7318 -73.9892\n",
       "3  10004  191760  40.6886 -74.0182\n",
       "4  10005  201734   40.706 -74.0088"
      ]
     },
     "execution_count": 23,
     "metadata": {},
     "output_type": "execute_result"
    }
   ],
   "source": [
    "df_lats_lons_inc.head()"
   ]
  },
  {
   "cell_type": "code",
   "execution_count": 24,
   "metadata": {},
   "outputs": [],
   "source": [
    "df_lats_lons_inc.columns = ['zip', 'mean income', 'Latitude', 'Longitude']"
   ]
  },
  {
   "cell_type": "code",
   "execution_count": 25,
   "metadata": {},
   "outputs": [],
   "source": [
    "values = df_lats_lons_inc[['Latitude', 'Longitude','mean income']].values"
   ]
  },
  {
   "cell_type": "code",
   "execution_count": 26,
   "metadata": {},
   "outputs": [],
   "source": [
    "for value in values:\n",
    "    value = list(value)"
   ]
  },
  {
   "cell_type": "code",
   "execution_count": 27,
   "metadata": {},
   "outputs": [],
   "source": [
    "values2 = [list(value) for value in values]"
   ]
  },
  {
   "cell_type": "code",
   "execution_count": 28,
   "metadata": {},
   "outputs": [
    {
     "data": {
      "text/plain": [
       "[[40.750633, -73.997, 161227],\n",
       " [40.715775, -73.989, 65718],\n",
       " [40.731829, -73.989181, 182531],\n",
       " [40.68863, -74.018244, 191760],\n",
       " [40.706027, -74.008835, 201734],\n",
       " [40.709614, -74.012954, 196771],\n",
       " [40.713848, -74.007755, 376573],\n",
       " [40.726399, -73.978631, 90523],\n",
       " [40.739065, -73.982255, 88872],\n",
       " [40.725581, -73.998078, 160244],\n",
       " [40.720103, -74.004903, 252811],\n",
       " [40.734012, -74.006746, 204690],\n",
       " [40.755319, -73.993114, 152396]]"
      ]
     },
     "execution_count": 28,
     "metadata": {},
     "output_type": "execute_result"
    }
   ],
   "source": [
    "values2"
   ]
  },
  {
   "cell_type": "code",
   "execution_count": 29,
   "metadata": {},
   "outputs": [],
   "source": [
    "list_lats = list(stations['Station_Latitude'])\n",
    "list_longs = list(stations['Station_Longitude'])\n",
    "lats_longs = [[lat, long] for lat,long in zip(list_lats,list_longs)]\n"
   ]
  },
  {
   "cell_type": "code",
   "execution_count": 30,
   "metadata": {},
   "outputs": [
    {
     "data": {
      "text/plain": [
       "<folium.plugins.heat_map.HeatMap at 0x11a39f198>"
      ]
     },
     "execution_count": 30,
     "metadata": {},
     "output_type": "execute_result"
    }
   ],
   "source": [
    "base_map = generateBaseMap()\n",
    "base_map\n",
    "for name,tuple_lat_lon in dict_stations.items():\n",
    "    folium.Marker(list(tuple_lat_lon),popup=name).add_to(base_map)\n",
    "HeatMap(data=lats_longs,radius=15,max_zoom=9,gradient={1:'red', .75:'yellow', .5: 'green', .25: 'blue'},blur=20 ).add_to(base_map)\n",
    "\n"
   ]
  },
  {
   "cell_type": "code",
   "execution_count": 31,
   "metadata": {},
   "outputs": [
    {
     "data": {
      "text/html": [
       "<div style=\"width:100%;\"><div style=\"position:relative;width:100%;height:0;padding-bottom:60%;\"><iframe src=\"data:text/html;charset=utf-8;base64,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\" style=\"position:absolute;width:100%;height:100%;left:0;top:0;border:none !important;\" allowfullscreen webkitallowfullscreen mozallowfullscreen></iframe></div></div>"
      ],
      "text/plain": [
       "<folium.folium.Map at 0x11a39f240>"
      ]
     },
     "execution_count": 31,
     "metadata": {},
     "output_type": "execute_result"
    }
   ],
   "source": [
    "#all stations\n",
    "base_map"
   ]
  },
  {
   "cell_type": "markdown",
   "metadata": {},
   "source": [
    "### Code/Data for visualization used in slide"
   ]
  },
  {
   "cell_type": "code",
   "execution_count": 38,
   "metadata": {},
   "outputs": [],
   "source": [
    "data_lats_longs = [[40.753050,-73.999440], [40.730700,-73.991530\n",
    "], [40.697440,-73.979440], [40.742670,-73.952330], [40.698230,-73.975160], [40.706860,-74.004370], [40.749490,-74.003880], [40.719540,-73.999730], [40.808480,-73.945060], [40.758450,-73.990000], [40.757170,-73.971260], [40.756270,-73.978240], [40.711670,-73.963890], [40.720230,-73.998630], [40.727370,-74.005770], [40.760970,-73.972100], [40.757510,-73.977260], [40.755110,-73.986230],[40.742960,-73.983760], [40.764960,-73.979180], [40.723940, -74.008405], [40.745230, -73.983180], [40.753487, -73.975374], [40.711174, -74.008428], [40.719908, -74.001197], [40.705753, -74.013796], [40.757330, -73.974680], [40.710714, -74.008994], [40.761581, -73.969528], [40.763007, -73.968189], [40.723893, -74.002231], [40.744322, -73.985300], [40.753441, -73.989245], [40.746121, -73.983973], [40.735327, -73.988241],[40.722690,-73.998460], [40.730080,-74.008140], [40.754070,-73.993340], [40.750330,-73.983710], [40.713050,-74.008360], [40.752980,-73.984230], [40.748990,-74.003250], [40.718770,-74.001830], [40.758010,-73.969530], [40.748130,-73.984400] ]\n",
    "\n"
   ]
  },
  {
   "cell_type": "code",
   "execution_count": 39,
   "metadata": {},
   "outputs": [
    {
     "data": {
      "text/plain": [
       "45"
      ]
     },
     "execution_count": 39,
     "metadata": {},
     "output_type": "execute_result"
    }
   ],
   "source": [
    "len(data_lats_longs)"
   ]
  },
  {
   "cell_type": "code",
   "execution_count": 40,
   "metadata": {},
   "outputs": [
    {
     "data": {
      "text/plain": [
       "<folium.plugins.heat_map.HeatMap at 0x11a458320>"
      ]
     },
     "execution_count": 40,
     "metadata": {},
     "output_type": "execute_result"
    }
   ],
   "source": [
    "base_map2 = generateBaseMap()\n",
    "for name,tuple_lat_lon in dict_stations.items():\n",
    "    folium.Marker(list(tuple_lat_lon),popup=name).add_to(base_map2)\n",
    "HeatMap(data=data_lats_longs,radius=15,max_zoom=12,gradient={1:'red', .75:'yellow', .5: 'green', .25: 'blue'},blur=20 ).add_to(base_map2)\n"
   ]
  },
  {
   "cell_type": "code",
   "execution_count": 41,
   "metadata": {},
   "outputs": [
    {
     "data": {
      "text/html": [
       "<div style=\"width:100%;\"><div style=\"position:relative;width:100%;height:0;padding-bottom:60%;\"><iframe src=\"data:text/html;charset=utf-8;base64,PCFET0NUWVBFIGh0bWw+CjxoZWFkPiAgICAKICAgIDxtZXRhIGh0dHAtZXF1aXY9ImNvbnRlbnQtdHlwZSIgY29udGVudD0idGV4dC9odG1sOyBjaGFyc2V0PVVURi04IiAvPgogICAgCiAgICAgICAgPHNjcmlwdD4KICAgICAgICAgICAgTF9OT19UT1VDSCA9IGZhbHNlOwogICAgICAgICAgICBMX0RJU0FCTEVfM0QgPSBmYWxzZTsKICAgICAgICA8L3NjcmlwdD4KICAgIAogICAgPHNjcmlwdCBzcmM9Imh0dHBzOi8vY2RuLmpzZGVsaXZyLm5ldC9ucG0vbGVhZmxldEAxLjQuMC9kaXN0L2xlYWZsZXQuanMiPjwvc2NyaXB0PgogICAgPHNjcmlwdCBzcmM9Imh0dHBzOi8vY29kZS5qcXVlcnkuY29tL2pxdWVyeS0xLjEyLjQubWluLmpzIj48L3NjcmlwdD4KICAgIDxzY3JpcHQgc3JjPSJodHRwczovL21heGNkbi5ib290c3RyYXBjZG4uY29tL2Jvb3RzdHJhcC8zLjIuMC9qcy9ib290c3RyYXAubWluLmpzIj48L3NjcmlwdD4KICAgIDxzY3JpcHQgc3JjPSJodHRwczovL2NkbmpzLmNsb3VkZmxhcmUuY29tL2FqYXgvbGlicy9MZWFmbGV0LmF3ZXNvbWUtbWFya2Vycy8yLjAuMi9sZWFmbGV0LmF3ZXNvbWUtbWFya2Vycy5qcyI+PC9zY3JpcHQ+CiAgICA8bGluayByZWw9InN0eWxlc2hlZXQiIGhyZWY9Imh0dHBzOi8vY2RuLmpzZGVsaXZyLm5ldC9ucG0vbGVhZmxldEAxLjQuMC9kaXN0L2xlYWZsZXQuY3NzIi8+CiAgICA8bGluayByZWw9InN0eWxlc2hlZXQiIGhyZWY9Imh0dHBzOi8vbWF4Y2RuLmJvb3RzdHJhcGNkbi5jb20vYm9vdHN0cmFwLzMuMi4wL2Nzcy9ib290c3RyYXAubWluLmNzcyIvPgogICAgPGxpbmsgcmVsPSJzdHlsZXNoZWV0IiBocmVmPSJodHRwczovL21heGNkbi5ib290c3RyYXBjZG4uY29tL2Jvb3RzdHJhcC8zLjIuMC9jc3MvYm9vdHN0cmFwLXRoZW1lLm1pbi5jc3MiLz4KICAgIDxsaW5rIHJlbD0ic3R5bGVzaGVldCIgaHJlZj0iaHR0cHM6Ly9tYXhjZG4uYm9vdHN0cmFwY2RuLmNvbS9mb250LWF3ZXNvbWUvNC42LjMvY3NzL2ZvbnQtYXdlc29tZS5taW4uY3NzIi8+CiAgICA8bGluayByZWw9InN0eWxlc2hlZXQiIGhyZWY9Imh0dHBzOi8vY2RuanMuY2xvdWRmbGFyZS5jb20vYWpheC9saWJzL0xlYWZsZXQuYXdlc29tZS1tYXJrZXJzLzIuMC4yL2xlYWZsZXQuYXdlc29tZS1tYXJrZXJzLmNzcyIvPgogICAgPGxpbmsgcmVsPSJzdHlsZXNoZWV0IiBocmVmPSJodHRwczovL3Jhd2Nkbi5naXRoYWNrLmNvbS9weXRob24tdmlzdWFsaXphdGlvbi9mb2xpdW0vbWFzdGVyL2ZvbGl1bS90ZW1wbGF0ZXMvbGVhZmxldC5hd2Vzb21lLnJvdGF0ZS5jc3MiLz4KICAgIDxzdHlsZT5odG1sLCBib2R5IHt3aWR0aDogMTAwJTtoZWlnaHQ6IDEwMCU7bWFyZ2luOiAwO3BhZGRpbmc6IDA7fTwvc3R5bGU+CiAgICA8c3R5bGU+I21hcCB7cG9zaXRpb246YWJzb2x1dGU7dG9wOjA7Ym90dG9tOjA7cmlnaHQ6MDtsZWZ0OjA7fTwvc3R5bGU+CiAgICAKICAgICAgICAgICAgPG1ldGEgbmFtZT0idmlld3BvcnQiIGNvbnRlbnQ9IndpZHRoPWRldmljZS13aWR0aCwKICAgICAgICAgICAgICAgIGluaXRpYWwtc2NhbGU9MS4wLCBtYXhpbXVtLXNjYWxlPTEuMCwgdXNlci1zY2FsYWJsZT1ubyIgLz4KICAgICAgICAgICAgPHN0eWxlPgogICAgICAgICAgICAgICAgI21hcF84MzBmZThmNGYxMjU0YWJmOGY2YTRhMGQ2NDY4YmUzOSB7CiAgICAgICAgICAgICAgICAgICAgcG9zaXRpb246IHJlbGF0aXZlOwogICAgICAgICAgICAgICAgICAgIHdpZHRoOiAxMDAuMCU7CiAgICAgICAgICAgICAgICAgICAgaGVpZ2h0OiAxMDAuMCU7CiAgICAgICAgICAgICAgICAgICAgbGVmdDogMC4wJTsKICAgICAgICAgICAgICAgICAgICB0b3A6IDAuMCU7CiAgICAgICAgICAgICAgICB9CiAgICAgICAgICAgIDwvc3R5bGU+CiAgICAgICAgCiAgICA8c2NyaXB0IHNyYz0iaHR0cHM6Ly9sZWFmbGV0LmdpdGh1Yi5pby9MZWFmbGV0LmhlYXQvZGlzdC9sZWFmbGV0LWhlYXQuanMiPjwvc2NyaXB0Pgo8L2hlYWQ+Cjxib2R5PiAgICAKICAgIAogICAgICAgICAgICA8ZGl2IGNsYXNzPSJmb2xpdW0tbWFwIiBpZD0ibWFwXzgzMGZlOGY0ZjEyNTRhYmY4ZjZhNGEwZDY0NjhiZTM5IiA+PC9kaXY+CiAgICAgICAgCjwvYm9keT4KPHNjcmlwdD4gICAgCiAgICAKICAgICAgICAgICAgdmFyIG1hcF84MzBmZThmNGYxMjU0YWJmOGY2YTRhMGQ2NDY4YmUzOSA9IEwubWFwKAogICAgICAgICAgICAgICAgIm1hcF84MzBmZThmNGYxMjU0YWJmOGY2YTRhMGQ2NDY4YmUzOSIsCiAgICAgICAgICAgICAgICB7CiAgICAgICAgICAgICAgICAgICAgY2VudGVyOiBbNDAuNjkzOTQzLCAtNzMuOTg1ODhdLAogICAgICAgICAgICAgICAgICAgIGNyczogTC5DUlMuRVBTRzM4NTcsCiAgICAgICAgICAgICAgICAgICAgem9vbTogMTIsCiAgICAgICAgICAgICAgICAgICAgem9vbUNvbnRyb2w6IHRydWUsCiAgICAgICAgICAgICAgICAgICAgcHJlZmVyQ2FudmFzOiBmYWxzZSwKICAgICAgICAgICAgICAgIH0KICAgICAgICAgICAgKTsKICAgICAgICAgICAgTC5jb250cm9sLnNjYWxlKCkuYWRkVG8obWFwXzgzMGZlOGY0ZjEyNTRhYmY4ZjZhNGEwZDY0NjhiZTM5KTsKCiAgICAgICAgICAgIAoKICAgICAgICAKICAgIAogICAgICAgICAgICB2YXIgdGlsZV9sYXllcl84NGVkYTZkMDIwNGQ0MzYzYjk4NzM5MjVjNDg5N2UxMyA9IEwudGlsZUxheWVyKAogICAgICAgICAgICAgICAgImh0dHBzOi8vc3RhbWVuLXRpbGVzLXtzfS5hLnNzbC5mYXN0bHkubmV0L3RvbmVyL3t6fS97eH0ve3l9LnBuZyIsCiAgICAgICAgICAgICAgICB7ImF0dHJpYnV0aW9uIjogIk1hcCB0aWxlcyBieSBcdTAwM2NhIGhyZWY9XCJodHRwOi8vc3RhbWVuLmNvbVwiXHUwMDNlU3RhbWVuIERlc2lnblx1MDAzYy9hXHUwMDNlLCB1bmRlciBcdTAwM2NhIGhyZWY9XCJodHRwOi8vY3JlYXRpdmVjb21tb25zLm9yZy9saWNlbnNlcy9ieS8zLjBcIlx1MDAzZUNDIEJZIDMuMFx1MDAzYy9hXHUwMDNlLiBEYXRhIGJ5IFx1MDAyNmNvcHk7IFx1MDAzY2EgaHJlZj1cImh0dHA6Ly9vcGVuc3RyZWV0bWFwLm9yZ1wiXHUwMDNlT3BlblN0cmVldE1hcFx1MDAzYy9hXHUwMDNlLCB1bmRlciBcdTAwM2NhIGhyZWY9XCJodHRwOi8vd3d3Lm9wZW5zdHJlZXRtYXAub3JnL2NvcHlyaWdodFwiXHUwMDNlT0RiTFx1MDAzYy9hXHUwMDNlLiIsICJkZXRlY3RSZXRpbmEiOiBmYWxzZSwgIm1heE5hdGl2ZVpvb20iOiAxOCwgIm1heFpvb20iOiAxOCwgIm1pblpvb20iOiAwLCAibm9XcmFwIjogZmFsc2UsICJvcGFjaXR5IjogMSwgInN1YmRvbWFpbnMiOiAiYWJjIiwgInRtcyI6IGZhbHNlfQogICAgICAgICAgICApLmFkZFRvKG1hcF84MzBmZThmNGYxMjU0YWJmOGY2YTRhMGQ2NDY4YmUzOSk7CiAgICAgICAgCiAgICAKICAgICAgICAgICAgdmFyIG1hcmtlcl82NDc3YjQ1ZTZjMTY0YjA3OTliNjM4MThhMDgxMjQ5YSA9IEwubWFya2VyKAogICAgICAgICAgICAgICAgWzQwLjc3MTM2LCAtNzMuOTI0NzhdLAogICAgICAgICAgICAgICAge30KICAgICAgICAgICAgKS5hZGRUbyhtYXBfODMwZmU4ZjRmMTI1NGFiZjhmNmE0YTBkNjQ2OGJlMzkpOwogICAgICAgIAogICAgCiAgICAgICAgdmFyIHBvcHVwXzQ0Y2I0MzZjYjI2YjRlMDQ5MzE5N2M5OTZjOTc0ZjQzID0gTC5wb3B1cCh7Im1heFdpZHRoIjogIjEwMCUifSk7CgogICAgICAgIAogICAgICAgICAgICB2YXIgaHRtbF8wNzYwZTA5MDk5MTc0MzVmYTgwNjQ4Y2U1ZjgyZTQyMiA9ICQoYDxkaXYgaWQ9Imh0bWxfMDc2MGUwOTA5OTE3NDM1ZmE4MDY0OGNlNWY4MmU0MjIiIHN0eWxlPSJ3aWR0aDogMTAwLjAlOyBoZWlnaHQ6IDEwMC4wJTsiPjIzIFNUPC9kaXY+YClbMF07CiAgICAgICAgICAgIHBvcHVwXzQ0Y2I0MzZjYjI2YjRlMDQ5MzE5N2M5OTZjOTc0ZjQzLnNldENvbnRlbnQoaHRtbF8wNzYwZTA5MDk5MTc0MzVmYTgwNjQ4Y2U1ZjgyZTQyMik7CiAgICAgICAgCgogICAgICAgIG1hcmtlcl82NDc3YjQ1ZTZjMTY0YjA3OTliNjM4MThhMDgxMjQ5YS5iaW5kUG9wdXAocG9wdXBfNDRjYjQzNmNiMjZiNGUwNDkzMTk3Yzk5NmM5NzRmNDMpCiAgICAgICAgOwoKICAgICAgICAKICAgIAogICAgCiAgICAgICAgICAgIHZhciBtYXJrZXJfMWVkNmJhN2M3ZmQ2NGFjYTlkMWQ5ZjdlNDVhNDc1ZWMgPSBMLm1hcmtlcigKICAgICAgICAgICAgICAgIFs0MC43NDkyNSwgLTczLjk3NzI2XSwKICAgICAgICAgICAgICAgIHt9CiAgICAgICAgICAgICkuYWRkVG8obWFwXzgzMGZlOGY0ZjEyNTRhYmY4ZjZhNGEwZDY0NjhiZTM5KTsKICAgICAgICAKICAgIAogICAgICAgIHZhciBwb3B1cF82YzM1ZjRlYzhhMjM0YTRhYjFmZjBlOWE2YWJkY2M2MiA9IEwucG9wdXAoeyJtYXhXaWR0aCI6ICIxMDAlIn0pOwoKICAgICAgICAKICAgICAgICAgICAgdmFyIGh0bWxfOGI3MzZkZjFiOTAzNGM1MWIyNjhiYjFkYmQ4ZWI5MjQgPSAkKGA8ZGl2IGlkPSJodG1sXzhiNzM2ZGYxYjkwMzRjNTFiMjY4YmIxZGJkOGViOTI0IiBzdHlsZT0id2lkdGg6IDEwMC4wJTsgaGVpZ2h0OiAxMDAuMCU7Ij5HUkQgQ05UUkwtNDIgU1Q8L2Rpdj5gKVswXTsKICAgICAgICAgICAgcG9wdXBfNmMzNWY0ZWM4YTIzNGE0YWIxZmYwZTlhNmFiZGNjNjIuc2V0Q29udGVudChodG1sXzhiNzM2ZGYxYjkwMzRjNTFiMjY4YmIxZGJkOGViOTI0KTsKICAgICAgICAKCiAgICAgICAgbWFya2VyXzFlZDZiYTdjN2ZkNjRhY2E5ZDFkOWY3ZTQ1YTQ3NWVjLmJpbmRQb3B1cChwb3B1cF82YzM1ZjRlYzhhMjM0YTRhYjFmZjBlOWE2YWJkY2M2MikKICAgICAgICA7CgogICAgICAgIAogICAgCiAgICAKICAgICAgICAgICAgdmFyIG1hcmtlcl8yNDVjYTE2ZTVmZDI0NjFiOWU4MWNlNjFjZGQ2YmMzNSA9IEwubWFya2VyKAogICAgICAgICAgICAgICAgWzQwLjc1MTEsIC03My45OTAzXSwKICAgICAgICAgICAgICAgIHt9CiAgICAgICAgICAgICkuYWRkVG8obWFwXzgzMGZlOGY0ZjEyNTRhYmY4ZjZhNGEwZDY0NjhiZTM5KTsKICAgICAgICAKICAgIAogICAgICAgIHZhciBwb3B1cF9jODEwMjE0ZWRjY2E0Mjk5OWNkMTM0YTIyZDBiNTJiOCA9IEwucG9wdXAoeyJtYXhXaWR0aCI6ICIxMDAlIn0pOwoKICAgICAgICAKICAgICAgICAgICAgdmFyIGh0bWxfZDYyOTJkMTE0YzM1NGMzODkxODcyZDIyZjk1YTU1ZDggPSAkKGA8ZGl2IGlkPSJodG1sX2Q2MjkyZDExNGMzNTRjMzg5MTg3MmQyMmY5NWE1NWQ4IiBzdHlsZT0id2lkdGg6IDEwMC4wJTsgaGVpZ2h0OiAxMDAuMCU7Ij4zNCBTVC1QRU5OIFNUQTwvZGl2PmApWzBdOwogICAgICAgICAgICBwb3B1cF9jODEwMjE0ZWRjY2E0Mjk5OWNkMTM0YTIyZDBiNTJiOC5zZXRDb250ZW50KGh0bWxfZDYyOTJkMTE0YzM1NGMzODkxODcyZDIyZjk1YTU1ZDgpOwogICAgICAgIAoKICAgICAgICBtYXJrZXJfMjQ1Y2ExNmU1ZmQyNDYxYjllODFjZTYxY2RkNmJjMzUuYmluZFBvcHVwKHBvcHVwX2M4MTAyMTRlZGNjYTQyOTk5Y2QxMzRhMjJkMGI1MmI4KQogICAgICAgIDsKCiAgICAgICAgCiAgICAKICAgIAogICAgICAgICAgICB2YXIgbWFya2VyXzAyNDA3OTk3YjdlZjQ0ZDU5NTdkY2VjZmQzODk1ZTZmID0gTC5tYXJrZXIoCiAgICAgICAgICAgICAgICBbNDAuNzQ4OSwgLTczLjk4ODhdLAogICAgICAgICAgICAgICAge30KICAgICAgICAgICAgKS5hZGRUbyhtYXBfODMwZmU4ZjRmMTI1NGFiZjhmNmE0YTBkNjQ2OGJlMzkpOwogICAgICAgIAogICAgCiAgICAgICAgdmFyIHBvcHVwX2QwNjczYzcyMjI3MjQwZjNhMjk0YTM2MjU0OTU4OWU1ID0gTC5wb3B1cCh7Im1heFdpZHRoIjogIjEwMCUifSk7CgogICAgICAgIAogICAgICAgICAgICB2YXIgaHRtbF8xOWE3ZGExYjc0MjY0MWUxYTJkM2I0YjBhN2Y4OThhYyA9ICQoYDxkaXYgaWQ9Imh0bWxfMTlhN2RhMWI3NDI2NDFlMWEyZDNiNGIwYTdmODk4YWMiIHN0eWxlPSJ3aWR0aDogMTAwLjAlOyBoZWlnaHQ6IDEwMC4wJTsiPjM0IFNULUhFUkFMRCBTUTwvZGl2PmApWzBdOwogICAgICAgICAgICBwb3B1cF9kMDY3M2M3MjIyNzI0MGYzYTI5NGEzNjI1NDk1ODllNS5zZXRDb250ZW50KGh0bWxfMTlhN2RhMWI3NDI2NDFlMWEyZDNiNGIwYTdmODk4YWMpOwogICAgICAgIAoKICAgICAgICBtYXJrZXJfMDI0MDc5OTdiN2VmNDRkNTk1N2RjZWNmZDM4OTVlNmYuYmluZFBvcHVwKHBvcHVwX2QwNjczYzcyMjI3MjQwZjNhMjk0YTM2MjU0OTU4OWU1KQogICAgICAgIDsKCiAgICAgICAgCiAgICAKICAgIAogICAgICAgICAgICB2YXIgbWFya2VyXzA1ZGNkNmMwZDlmYjQ5NTNhMjFiYjUxOGYyY2Y0NzhhID0gTC5tYXJrZXIoCiAgICAgICAgICAgICAgICBbNDAuNDUsIC03My41OV0sCiAgICAgICAgICAgICAgICB7fQogICAgICAgICAgICApLmFkZFRvKG1hcF84MzBmZThmNGYxMjU0YWJmOGY2YTRhMGQ2NDY4YmUzOSk7CiAgICAgICAgCiAgICAKICAgICAgICB2YXIgcG9wdXBfOWE5MmViNjJlYWQ2NDZhZGJiOGU2OTA2NjJmZWE4MjkgPSBMLnBvcHVwKHsibWF4V2lkdGgiOiAiMTAwJSJ9KTsKCiAgICAgICAgCiAgICAgICAgICAgIHZhciBodG1sXzdkOTNlODU1NGY5NzRkNjhhNzc2MGY4OTk4Nzg2MGJkID0gJChgPGRpdiBpZD0iaHRtbF83ZDkzZTg1NTRmOTc0ZDY4YTc3NjBmODk5ODc4NjBiZCIgc3R5bGU9IndpZHRoOiAxMDAuMCU7IGhlaWdodDogMTAwLjAlOyI+NDIgU1QtUE9SVCBBVTwvZGl2PmApWzBdOwogICAgICAgICAgICBwb3B1cF85YTkyZWI2MmVhZDY0NmFkYmI4ZTY5MDY2MmZlYTgyOS5zZXRDb250ZW50KGh0bWxfN2Q5M2U4NTU0Zjk3NGQ2OGE3NzYwZjg5OTg3ODYwYmQpOwogICAgICAgIAoKICAgICAgICBtYXJrZXJfMDVkY2Q2YzBkOWZiNDk1M2EyMWJiNTE4ZjJjZjQ3OGEuYmluZFBvcHVwKHBvcHVwXzlhOTJlYjYyZWFkNjQ2YWRiYjhlNjkwNjYyZmVhODI5KQogICAgICAgIDsKCiAgICAgICAgCiAgICAKICAgIAogICAgICAgICAgICB2YXIgaGVhdF9tYXBfYjM5MTM2NzI3NGI0NGFmNDk0YzQzY2Q5MWI4ODI4NTggPSBMLmhlYXRMYXllcigKICAgICAgICAgICAgICAgIFtbNDAuNzUzMDUsIC03My45OTk0NF0sIFs0MC43MzA3LCAtNzMuOTkxNTNdLCBbNDAuNjk3NDQsIC03My45Nzk0NF0sIFs0MC43NDI2NywgLTczLjk1MjMzXSwgWzQwLjY5ODIzLCAtNzMuOTc1MTZdLCBbNDAuNzA2ODYsIC03NC4wMDQzN10sIFs0MC43NDk0OSwgLTc0LjAwMzg4XSwgWzQwLjcxOTU0LCAtNzMuOTk5NzNdLCBbNDAuODA4NDgsIC03My45NDUwNl0sIFs0MC43NTg0NSwgLTczLjk5XSwgWzQwLjc1NzE3LCAtNzMuOTcxMjZdLCBbNDAuNzU2MjcsIC03My45NzgyNF0sIFs0MC43MTE2NywgLTczLjk2Mzg5XSwgWzQwLjcyMDIzLCAtNzMuOTk4NjNdLCBbNDAuNzI3MzcsIC03NC4wMDU3N10sIFs0MC43NjA5NywgLTczLjk3MjFdLCBbNDAuNzU3NTEsIC03My45NzcyNl0sIFs0MC43NTUxMSwgLTczLjk4NjIzXSwgWzQwLjc0Mjk2LCAtNzMuOTgzNzZdLCBbNDAuNzY0OTYsIC03My45NzkxOF0sIFs0MC43MjM5NCwgLTc0LjAwODQwNV0sIFs0MC43NDUyMywgLTczLjk4MzE4XSwgWzQwLjc1MzQ4NywgLTczLjk3NTM3NF0sIFs0MC43MTExNzQsIC03NC4wMDg0MjhdLCBbNDAuNzE5OTA4LCAtNzQuMDAxMTk3XSwgWzQwLjcwNTc1MywgLTc0LjAxMzc5Nl0sIFs0MC43NTczMywgLTczLjk3NDY4XSwgWzQwLjcxMDcxNCwgLTc0LjAwODk5NF0sIFs0MC43NjE1ODEsIC03My45Njk1MjhdLCBbNDAuNzYzMDA3LCAtNzMuOTY4MTg5XSwgWzQwLjcyMzg5MywgLTc0LjAwMjIzMV0sIFs0MC43NDQzMjIsIC03My45ODUzXSwgWzQwLjc1MzQ0MSwgLTczLjk4OTI0NV0sIFs0MC43NDYxMjEsIC03My45ODM5NzNdLCBbNDAuNzM1MzI3LCAtNzMuOTg4MjQxXSwgWzQwLjcyMjY5LCAtNzMuOTk4NDZdLCBbNDAuNzMwMDgsIC03NC4wMDgxNF0sIFs0MC43NTQwNywgLTczLjk5MzM0XSwgWzQwLjc1MDMzLCAtNzMuOTgzNzFdLCBbNDAuNzEzMDUsIC03NC4wMDgzNl0sIFs0MC43NTI5OCwgLTczLjk4NDIzXSwgWzQwLjc0ODk5LCAtNzQuMDAzMjVdLCBbNDAuNzE4NzcsIC03NC4wMDE4M10sIFs0MC43NTgwMSwgLTczLjk2OTUzXSwgWzQwLjc0ODEzLCAtNzMuOTg0NF1dLAogICAgICAgICAgICAgICAgeyJibHVyIjogMjAsICJncmFkaWVudCI6IHsiMC4yNSI6ICJibHVlIiwgIjAuNSI6ICJncmVlbiIsICIwLjc1IjogInllbGxvdyIsICIxIjogInJlZCJ9LCAibWF4IjogMS4wLCAibWF4Wm9vbSI6IDEyLCAibWluT3BhY2l0eSI6IDAuNSwgInJhZGl1cyI6IDE1fQogICAgICAgICAgICApLmFkZFRvKG1hcF84MzBmZThmNGYxMjU0YWJmOGY2YTRhMGQ2NDY4YmUzOSk7CiAgICAgICAgCjwvc2NyaXB0Pg==\" style=\"position:absolute;width:100%;height:100%;left:0;top:0;border:none !important;\" allowfullscreen webkitallowfullscreen mozallowfullscreen></iframe></div></div>"
      ],
      "text/plain": [
       "<folium.folium.Map at 0x11a377240>"
      ]
     },
     "execution_count": 41,
     "metadata": {},
     "output_type": "execute_result"
    }
   ],
   "source": [
    "base_map2"
   ]
  },
  {
   "cell_type": "code",
   "execution_count": null,
   "metadata": {},
   "outputs": [],
   "source": []
  }
 ],
 "metadata": {
  "kernelspec": {
   "display_name": "Python 3",
   "language": "python",
   "name": "python3"
  },
  "language_info": {
   "codemirror_mode": {
    "name": "ipython",
    "version": 3
   },
   "file_extension": ".py",
   "mimetype": "text/x-python",
   "name": "python",
   "nbconvert_exporter": "python",
   "pygments_lexer": "ipython3",
   "version": "3.7.3"
  }
 },
 "nbformat": 4,
 "nbformat_minor": 2
}
